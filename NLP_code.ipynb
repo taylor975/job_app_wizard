{
 "cells": [
  {
   "cell_type": "markdown",
   "metadata": {},
   "source": [
    "## NLP Code"
   ]
  },
  {
   "cell_type": "markdown",
   "metadata": {},
   "source": [
    "This notebook is for writing the Natural Language Processing code that will go inside of the program function.\n",
    "Requirements:\n",
    "- tokenize text\n",
    "- remove stop words\n",
    "- stem tokens\n",
    "- produce counts of most frequently used tokens and bi-grams\n",
    "\n",
    "### Implementation Overview:\n",
    "1. Import word document of job description\n",
    "2. Generate stopword lists:  English list and custom list \n",
    "3. Apply tokenizer to strip puncuation, remove stopwords, and create bag of words\n",
    "4. Create a dictionary of skills from word bag\n",
    "5. Create a dictionary of stemmed skills from word bag\n",
    "6. Create a third dictionary with counts of unstemmed words for each word stem\n",
    "7. Visualize results \n",
    "\n",
    "#### Next Steps:\n",
    "- Transpose second and third dictionaries into DataFrame\n",
    "- Repeat processing for bi- and tri-grams*\n",
    "- Update DataFrame with results of bi- and tri-grams analysis\n",
    "\n",
    "**For bi- and tri-gram analysis, only remove English stopwords and omit results containing stemmed versions of custom stopwords.* \n",
    "\n"
   ]
  },
  {
   "cell_type": "code",
   "execution_count": 8,
   "metadata": {},
   "outputs": [],
   "source": [
    "# import relevant packages\n",
    "import pandas as pd\n",
    "import numpy as np\n",
    "import matplotlib.pyplot as plt\n",
    "import textract as tx\n",
    "import nltk\n",
    "from nltk.corpus import stopwords \n",
    "import string\n",
    "\n",
    "from sklearn.linear_model import LogisticRegression\n",
    "from sklearn.feature_extraction.text import CountVectorizer\n",
    "\n",
    "import warnings\n",
    "warnings.filterwarnings('ignore')"
   ]
  },
  {
   "cell_type": "markdown",
   "metadata": {},
   "source": [
    "## Step 1 - Import Job Document\n",
    "\n",
    "Import word document with job description."
   ]
  },
  {
   "cell_type": "code",
   "execution_count": 9,
   "metadata": {},
   "outputs": [
    {
     "data": {
      "text/plain": [
       "'Adaptability: Flexibility and adaptability to learn new tools, techniques, and technologies as needed to support evolving business needs.  Attention to Detail: Strong attention to detail and accuracy in data analysis and reporting to ensure the reliability and integrity of findings.  Strong problem-solving, logical thinking and analytical skills.  Proficiency in computer skills including Excel, PowerPoint, and mapping software.  Statistical Knowledge: Solid understanding of statistical concepts and methods for data analysis, such as regression analysis, hypothesis testing, and time series analysis.  Communication Skills: Excellent verbal and written communication skills with the ability to effectively present findings and recommendations to both technical and non-technical audiences.  Team Collaboration: Ability to work collaboratively in a cross-functional team environment and effectively communicate with stakeholders at all levels of the organization.  Time Management: Ability to manage multiple projects and priorities effectively in a fast-paced environment while meeting deadlines.'"
      ]
     },
     "execution_count": 9,
     "metadata": {},
     "output_type": "execute_result"
    }
   ],
   "source": [
    "# import word document and decode bytes into string data\n",
    "job_corpus = tx.process(\"skills_sample.docx\").decode(\"utf-8\")\n",
    "\n",
    "# remove all line breaks and non-breaking spaces\n",
    "job_corpus = job_corpus.replace(\n",
    "    '\\n', ' ').replace(\n",
    "        '\\xa0', ' ').replace(\n",
    "            '\\r', ' '\n",
    "        )\n",
    "\n",
    "# return text string\n",
    "job_corpus"
   ]
  },
  {
   "cell_type": "markdown",
   "metadata": {},
   "source": [
    "## Step 2 - Generate Stopword Lists\n",
    "\n",
    "Two lists two generate:  the first will be the standard English stopwords, the second will be a custom list of terms commonly found in job description headings and common verbs that do not add value to analysis.\n",
    "\n",
    "### English Stopwords:"
   ]
  },
  {
   "cell_type": "code",
   "execution_count": 10,
   "metadata": {},
   "outputs": [
    {
     "name": "stderr",
     "output_type": "stream",
     "text": [
      "[nltk_data] Downloading package stopwords to\n",
      "[nltk_data]     C:\\Users\\taylo\\AppData\\Roaming\\nltk_data...\n",
      "[nltk_data]   Package stopwords is already up-to-date!\n"
     ]
    }
   ],
   "source": [
    "# initialize stemmer\n",
    "stemmer = nltk.stem.PorterStemmer()\n",
    "\n",
    "# download the nltk stopwords\n",
    "nltk.download('stopwords')\n",
    "\n",
    "# assign english stop words to variable\n",
    "eng_sw = stopwords.words('english')\n"
   ]
  },
  {
   "cell_type": "markdown",
   "metadata": {},
   "source": [
    "### Custom Stopwords:"
   ]
  },
  {
   "cell_type": "code",
   "execution_count": 11,
   "metadata": {},
   "outputs": [],
   "source": [
    "cust_sw = [\"experience\", \"education\", \"skills\", \"responsibilities\", \"duties\", \"tasks\",\n",
    "           \"overview\", \"candidate\", \"profile\", \"competencies\", \"benefits\", \"abilities\"]"
   ]
  },
  {
   "cell_type": "markdown",
   "metadata": {},
   "source": [
    "## Step 3 - Apply Tokenizer\n",
    "\n",
    "Define custom tokenizer to strip punctuation, format all text to lowercase, remove stopwords and split string into individual tokens.  Return bag of words."
   ]
  },
  {
   "cell_type": "code",
   "execution_count": 12,
   "metadata": {},
   "outputs": [],
   "source": [
    "# custom tokenizer definition\n",
    "def my_tokenizer(corpus):\n",
    "    # remove punctuation and set to lower case\n",
    "    for punctuation_mark in string.punctuation:\n",
    "        corpus = corpus.replace(punctuation_mark,'').lower()\n",
    "\n",
    "    # split string into words\n",
    "    listofwords = corpus.split(' ')\n",
    "    wordbag = []\n",
    "    \n",
    "    # remove stopwords and any tokens that are just empty strings\n",
    "    for word in listofwords:\n",
    "        if (not word in eng_sw) and (not word in cust_sw) and (word!=''):\n",
    "            wordbag.append(word)\n",
    "\n",
    "    return wordbag"
   ]
  },
  {
   "cell_type": "code",
   "execution_count": 13,
   "metadata": {},
   "outputs": [],
   "source": [
    "# a dummy sentence used for checking our process\n",
    "#test_sent = \"The quick brown fox, jumped over the lazy, lazy dog!!\""
   ]
  },
  {
   "cell_type": "code",
   "execution_count": 14,
   "metadata": {},
   "outputs": [
    {
     "name": "stdout",
     "output_type": "stream",
     "text": [
      "['adaptability', 'flexibility', 'adaptability', 'learn', 'new', 'tools', 'techniques', 'technologies', 'needed', 'support', 'evolving', 'business', 'needs', 'attention', 'detail', 'strong', 'attention', 'detail', 'accuracy', 'data', 'analysis', 'reporting', 'ensure', 'reliability', 'integrity', 'findings', 'strong', 'problemsolving', 'logical', 'thinking', 'analytical', 'proficiency', 'computer', 'including', 'excel', 'powerpoint', 'mapping', 'software', 'statistical', 'knowledge', 'solid', 'understanding', 'statistical', 'concepts', 'methods', 'data', 'analysis', 'regression', 'analysis', 'hypothesis', 'testing', 'time', 'series', 'analysis', 'communication', 'excellent', 'verbal', 'written', 'communication', 'ability', 'effectively', 'present', 'findings', 'recommendations', 'technical', 'nontechnical', 'audiences', 'team', 'collaboration', 'ability', 'work', 'collaboratively', 'crossfunctional', 'team', 'environment', 'effectively', 'communicate', 'stakeholders', 'levels', 'organization', 'time', 'management', 'ability', 'manage', 'multiple', 'projects', 'priorities', 'effectively', 'fastpaced', 'environment', 'meeting', 'deadlines']\n"
     ]
    }
   ],
   "source": [
    "# apply tokenizer\n",
    "bagofskills = my_tokenizer(job_corpus)\n",
    "print(bagofskills)"
   ]
  },
  {
   "cell_type": "markdown",
   "metadata": {},
   "source": [
    "## Step 4 - Create Dictionary of SKills\n",
    "\n",
    "Create a dictionary that counts each time a skill is used in the corpus."
   ]
  },
  {
   "cell_type": "code",
   "execution_count": 15,
   "metadata": {},
   "outputs": [
    {
     "data": {
      "text/plain": [
       "{'adaptability': 2,\n",
       " 'flexibility': 1,\n",
       " 'learn': 1,\n",
       " 'new': 1,\n",
       " 'tools': 1,\n",
       " 'techniques': 1,\n",
       " 'technologies': 1,\n",
       " 'needed': 1,\n",
       " 'support': 1,\n",
       " 'evolving': 1,\n",
       " 'business': 1,\n",
       " 'needs': 1,\n",
       " 'attention': 2,\n",
       " 'detail': 2,\n",
       " 'strong': 2,\n",
       " 'accuracy': 1,\n",
       " 'data': 2,\n",
       " 'analysis': 4,\n",
       " 'reporting': 1,\n",
       " 'ensure': 1,\n",
       " 'reliability': 1,\n",
       " 'integrity': 1,\n",
       " 'findings': 2,\n",
       " 'problemsolving': 1,\n",
       " 'logical': 1,\n",
       " 'thinking': 1,\n",
       " 'analytical': 1,\n",
       " 'proficiency': 1,\n",
       " 'computer': 1,\n",
       " 'including': 1,\n",
       " 'excel': 1,\n",
       " 'powerpoint': 1,\n",
       " 'mapping': 1,\n",
       " 'software': 1,\n",
       " 'statistical': 2,\n",
       " 'knowledge': 1,\n",
       " 'solid': 1,\n",
       " 'understanding': 1,\n",
       " 'concepts': 1,\n",
       " 'methods': 1,\n",
       " 'regression': 1,\n",
       " 'hypothesis': 1,\n",
       " 'testing': 1,\n",
       " 'time': 2,\n",
       " 'series': 1,\n",
       " 'communication': 2,\n",
       " 'excellent': 1,\n",
       " 'verbal': 1,\n",
       " 'written': 1,\n",
       " 'ability': 3,\n",
       " 'effectively': 3,\n",
       " 'present': 1,\n",
       " 'recommendations': 1,\n",
       " 'technical': 1,\n",
       " 'nontechnical': 1,\n",
       " 'audiences': 1,\n",
       " 'team': 2,\n",
       " 'collaboration': 1,\n",
       " 'work': 1,\n",
       " 'collaboratively': 1,\n",
       " 'crossfunctional': 1,\n",
       " 'environment': 2,\n",
       " 'communicate': 1,\n",
       " 'stakeholders': 1,\n",
       " 'levels': 1,\n",
       " 'organization': 1,\n",
       " 'management': 1,\n",
       " 'manage': 1,\n",
       " 'multiple': 1,\n",
       " 'projects': 1,\n",
       " 'priorities': 1,\n",
       " 'fastpaced': 1,\n",
       " 'meeting': 1,\n",
       " 'deadlines': 1}"
      ]
     },
     "execution_count": 15,
     "metadata": {},
     "output_type": "execute_result"
    }
   ],
   "source": [
    "# create dictionary of words from the tokens returned by tokenizer\n",
    "skill_dict = dict((x, bagofskills.count(x)) for x in list(bagofskills))\n",
    "\n",
    "skill_dict"
   ]
  },
  {
   "cell_type": "code",
   "execution_count": 16,
   "metadata": {},
   "outputs": [
    {
     "data": {
      "text/plain": [
       "74"
      ]
     },
     "execution_count": 16,
     "metadata": {},
     "output_type": "execute_result"
    }
   ],
   "source": [
    "# check the length\n",
    "len(skill_dict)"
   ]
  },
  {
   "cell_type": "markdown",
   "metadata": {},
   "source": [
    "## Step 5 - Create Dictionary of Stemmed Words\n",
    "\n",
    "Stem the tokens in the word bag and create a dictionary of stemmed words."
   ]
  },
  {
   "cell_type": "code",
   "execution_count": 17,
   "metadata": {},
   "outputs": [],
   "source": [
    "# empty list for stemmed bag of words\n",
    "stemmed_wordbag = []\n",
    "\n",
    "# fill stemmed bag of words\n",
    "for word in bagofskills:\n",
    "    stemmed_word = stemmer.stem(word)\n",
    "    stemmed_wordbag.append(stemmed_word)"
   ]
  },
  {
   "cell_type": "code",
   "execution_count": 18,
   "metadata": {},
   "outputs": [
    {
     "data": {
      "text/plain": [
       "{'adapt': 2,\n",
       " 'flexibl': 1,\n",
       " 'learn': 1,\n",
       " 'new': 1,\n",
       " 'tool': 1,\n",
       " 'techniqu': 1,\n",
       " 'technolog': 1,\n",
       " 'need': 2,\n",
       " 'support': 1,\n",
       " 'evolv': 1,\n",
       " 'busi': 1,\n",
       " 'attent': 2,\n",
       " 'detail': 2,\n",
       " 'strong': 2,\n",
       " 'accuraci': 1,\n",
       " 'data': 2,\n",
       " 'analysi': 4,\n",
       " 'report': 1,\n",
       " 'ensur': 1,\n",
       " 'reliabl': 1,\n",
       " 'integr': 1,\n",
       " 'find': 2,\n",
       " 'problemsolv': 1,\n",
       " 'logic': 1,\n",
       " 'think': 1,\n",
       " 'analyt': 1,\n",
       " 'profici': 1,\n",
       " 'comput': 1,\n",
       " 'includ': 1,\n",
       " 'excel': 2,\n",
       " 'powerpoint': 1,\n",
       " 'map': 1,\n",
       " 'softwar': 1,\n",
       " 'statist': 2,\n",
       " 'knowledg': 1,\n",
       " 'solid': 1,\n",
       " 'understand': 1,\n",
       " 'concept': 1,\n",
       " 'method': 1,\n",
       " 'regress': 1,\n",
       " 'hypothesi': 1,\n",
       " 'test': 1,\n",
       " 'time': 2,\n",
       " 'seri': 1,\n",
       " 'commun': 3,\n",
       " 'verbal': 1,\n",
       " 'written': 1,\n",
       " 'abil': 3,\n",
       " 'effect': 3,\n",
       " 'present': 1,\n",
       " 'recommend': 1,\n",
       " 'technic': 1,\n",
       " 'nontechn': 1,\n",
       " 'audienc': 1,\n",
       " 'team': 2,\n",
       " 'collabor': 2,\n",
       " 'work': 1,\n",
       " 'crossfunct': 1,\n",
       " 'environ': 2,\n",
       " 'stakehold': 1,\n",
       " 'level': 1,\n",
       " 'organ': 1,\n",
       " 'manag': 2,\n",
       " 'multipl': 1,\n",
       " 'project': 1,\n",
       " 'prioriti': 1,\n",
       " 'fastpac': 1,\n",
       " 'meet': 1,\n",
       " 'deadlin': 1}"
      ]
     },
     "execution_count": 18,
     "metadata": {},
     "output_type": "execute_result"
    }
   ],
   "source": [
    "# create dictionary of words from the tokens returned by tokenizer\n",
    "stem_dict = dict((x, stemmed_wordbag.count(x)) for x in list(stemmed_wordbag))\n",
    "\n",
    "stem_dict"
   ]
  },
  {
   "cell_type": "code",
   "execution_count": 19,
   "metadata": {},
   "outputs": [
    {
     "data": {
      "text/plain": [
       "69"
      ]
     },
     "execution_count": 19,
     "metadata": {},
     "output_type": "execute_result"
    }
   ],
   "source": [
    "# check the length\n",
    "len(stem_dict)"
   ]
  },
  {
   "cell_type": "markdown",
   "metadata": {},
   "source": [
    "### Check Dictionary Contents:\n",
    "\n",
    "Confirm that both dicutionaries contain the same number of overall terms"
   ]
  },
  {
   "cell_type": "code",
   "execution_count": 20,
   "metadata": {},
   "outputs": [
    {
     "name": "stdout",
     "output_type": "stream",
     "text": [
      "Number of terms in skills dictionary:           92\n",
      "Number of terms in stemmed skills dictionary:   92\n"
     ]
    }
   ],
   "source": [
    "terms = 0\n",
    "stems = 0\n",
    "\n",
    "for key in skill_dict:\n",
    "    terms += skill_dict[key]\n",
    "\n",
    "for key in stem_dict:\n",
    "    stems += stem_dict[key]\n",
    "\n",
    "print(f\"Number of terms in skills dictionary:           {terms}\")\n",
    "print(f\"Number of terms in stemmed skills dictionary:   {stems}\")"
   ]
  },
  {
   "cell_type": "markdown",
   "metadata": {},
   "source": [
    "Dictionaries have equal number of terms.\n",
    "\n",
    "## Step 6 - Create Stemmed Skills Dictionary of Skills\n",
    "\n",
    "Now we want to create a final dictionary where the stemmed skills are passed as keys and the value pairs are subdictionaries of the unstemmed skills."
   ]
  },
  {
   "cell_type": "code",
   "execution_count": 21,
   "metadata": {},
   "outputs": [],
   "source": [
    "# initialize empty dictionary\n",
    "stem_skills_dict = {key: {} for key in stem_dict}\n"
   ]
  },
  {
   "cell_type": "code",
   "execution_count": 22,
   "metadata": {},
   "outputs": [],
   "source": [
    "# fill dictionary\n",
    "for word in bagofskills:\n",
    "    stemmed_word = stemmer.stem(word)\n",
    "    word_count = bagofskills.count(word)\n",
    "    stem_skills_dict[stemmed_word][word] = word_count"
   ]
  },
  {
   "cell_type": "code",
   "execution_count": 23,
   "metadata": {},
   "outputs": [
    {
     "data": {
      "text/plain": [
       "{'adapt': {'adaptability': 2},\n",
       " 'flexibl': {'flexibility': 1},\n",
       " 'learn': {'learn': 1},\n",
       " 'new': {'new': 1},\n",
       " 'tool': {'tools': 1},\n",
       " 'techniqu': {'techniques': 1},\n",
       " 'technolog': {'technologies': 1},\n",
       " 'need': {'needed': 1, 'needs': 1},\n",
       " 'support': {'support': 1},\n",
       " 'evolv': {'evolving': 1},\n",
       " 'busi': {'business': 1},\n",
       " 'attent': {'attention': 2},\n",
       " 'detail': {'detail': 2},\n",
       " 'strong': {'strong': 2},\n",
       " 'accuraci': {'accuracy': 1},\n",
       " 'data': {'data': 2},\n",
       " 'analysi': {'analysis': 4},\n",
       " 'report': {'reporting': 1},\n",
       " 'ensur': {'ensure': 1},\n",
       " 'reliabl': {'reliability': 1},\n",
       " 'integr': {'integrity': 1},\n",
       " 'find': {'findings': 2},\n",
       " 'problemsolv': {'problemsolving': 1},\n",
       " 'logic': {'logical': 1},\n",
       " 'think': {'thinking': 1},\n",
       " 'analyt': {'analytical': 1},\n",
       " 'profici': {'proficiency': 1},\n",
       " 'comput': {'computer': 1},\n",
       " 'includ': {'including': 1},\n",
       " 'excel': {'excel': 1, 'excellent': 1},\n",
       " 'powerpoint': {'powerpoint': 1},\n",
       " 'map': {'mapping': 1},\n",
       " 'softwar': {'software': 1},\n",
       " 'statist': {'statistical': 2},\n",
       " 'knowledg': {'knowledge': 1},\n",
       " 'solid': {'solid': 1},\n",
       " 'understand': {'understanding': 1},\n",
       " 'concept': {'concepts': 1},\n",
       " 'method': {'methods': 1},\n",
       " 'regress': {'regression': 1},\n",
       " 'hypothesi': {'hypothesis': 1},\n",
       " 'test': {'testing': 1},\n",
       " 'time': {'time': 2},\n",
       " 'seri': {'series': 1},\n",
       " 'commun': {'communication': 2, 'communicate': 1},\n",
       " 'verbal': {'verbal': 1},\n",
       " 'written': {'written': 1},\n",
       " 'abil': {'ability': 3},\n",
       " 'effect': {'effectively': 3},\n",
       " 'present': {'present': 1},\n",
       " 'recommend': {'recommendations': 1},\n",
       " 'technic': {'technical': 1},\n",
       " 'nontechn': {'nontechnical': 1},\n",
       " 'audienc': {'audiences': 1},\n",
       " 'team': {'team': 2},\n",
       " 'collabor': {'collaboration': 1, 'collaboratively': 1},\n",
       " 'work': {'work': 1},\n",
       " 'crossfunct': {'crossfunctional': 1},\n",
       " 'environ': {'environment': 2},\n",
       " 'stakehold': {'stakeholders': 1},\n",
       " 'level': {'levels': 1},\n",
       " 'organ': {'organization': 1},\n",
       " 'manag': {'management': 1, 'manage': 1},\n",
       " 'multipl': {'multiple': 1},\n",
       " 'project': {'projects': 1},\n",
       " 'prioriti': {'priorities': 1},\n",
       " 'fastpac': {'fastpaced': 1},\n",
       " 'meet': {'meeting': 1},\n",
       " 'deadlin': {'deadlines': 1}}"
      ]
     },
     "execution_count": 23,
     "metadata": {},
     "output_type": "execute_result"
    }
   ],
   "source": [
    "stem_skills_dict"
   ]
  },
  {
   "cell_type": "markdown",
   "metadata": {},
   "source": [
    "## Step 7 - Visualize Results\n",
    "\n",
    "Graphically visualize the top 20 most common skill stems.\n",
    "\n",
    "### Skills:"
   ]
  },
  {
   "cell_type": "code",
   "execution_count": 24,
   "metadata": {},
   "outputs": [],
   "source": [
    "skill_df = pd.DataFrame(skill_dict.values(), columns=[\"Count\"], index=skill_dict.keys())\n",
    "df_sorted = skill_df.sort_values(by=\"Count\", ascending=True)\n",
    "top_skills = df_sorted.tail(20)"
   ]
  },
  {
   "cell_type": "code",
   "execution_count": 25,
   "metadata": {},
   "outputs": [
    {
     "data": {
      "image/png": "[encoded data removed]",
      "text/plain": [
       "<Figure size 700x1000 with 1 Axes>"
      ]
     },
     "metadata": {},
     "output_type": "display_data"
    }
   ],
   "source": [
    "plt.figure(figsize=(7, 10))\n",
    "plt.barh(top_skills.index, top_skills[\"Count\"], color='skyblue')\n",
    "#word_count_df.head(20).plot(kind='barh', legend=False)\n",
    "plt.title(\"Top 20 Skills by Frequency\")\n",
    "plt.xlabel(\"Count\")\n",
    "plt.show()"
   ]
  },
  {
   "cell_type": "markdown",
   "metadata": {},
   "source": [
    "### Stems:"
   ]
  },
  {
   "cell_type": "code",
   "execution_count": 26,
   "metadata": {},
   "outputs": [],
   "source": [
    "stem_df = pd.DataFrame(stem_dict.values(), columns=[\"Count\"], index=stem_dict.keys())\n",
    "df_sorted = stem_df.sort_values(by=\"Count\", ascending=True)\n",
    "top_stems = df_sorted.tail(20)"
   ]
  },
  {
   "cell_type": "code",
   "execution_count": 27,
   "metadata": {},
   "outputs": [
    {
     "data": {
      "image/png": "[encoded data removed]",
      "text/plain": [
       "<Figure size 700x1000 with 1 Axes>"
      ]
     },
     "metadata": {},
     "output_type": "display_data"
    }
   ],
   "source": [
    "plt.figure(figsize=(7, 10))\n",
    "plt.barh(top_stems.index, top_stems[\"Count\"], color='skyblue')\n",
    "#word_count_df.head(20).plot(kind='barh', legend=False)\n",
    "plt.title(\"Top 20 Stemmed Skills by Frequency\")\n",
    "plt.xlabel(\"Count\")\n",
    "plt.show()"
   ]
  },
  {
   "cell_type": "markdown",
   "metadata": {},
   "source": [
    "# Part 2 - Implement Bigrams\n",
    "\n",
    "Part 2 of the process is implementing bigrams analysis of the text corpus to assess so that commonly used pairs of words can be returned in the list of frequently appearing skills and keywords.  This should ensure that skills such as \"business intelligence\" are captured by the program, as this pair of words ascribes meaning that would not be directly conferred by either of those words individually.\n",
    "\n",
    "Here is the general process to be applied:\n",
    "1. Create a second tokenizer function that only removes the English stopwords, and does not apply stemming\n",
    "2. Generate Bigrams from the text\n",
    "3. Fill dictionary with Bigrams and frequency of appearance\n",
    "4. Visualize Results\n",
    "\n",
    "Next Steps:\n",
    "1. Remove dictionary entries where the Bigram key contains any words from the custom stopword list\n",
    "\n",
    "## Step 1 - Implement New Tokenizer Function\n",
    "\n",
    "Recall that we already have the text string of the job document stored in `job_corpus`, therefore we do not need to import the document again.  However, we do need to setup a second tokenizer function that will remove punctuation, split the text into tokens, and remove the English stopwords.  The custom stopwords will not be removed at this point, nor will the tokens be stemmed."
   ]
  },
  {
   "cell_type": "code",
   "execution_count": 28,
   "metadata": {},
   "outputs": [],
   "source": [
    "# custom tokenizer definition\n",
    "def my_tokenizer_2(corpus):\n",
    "    # remove punctuation and set to lower case\n",
    "    for punctuation_mark in string.punctuation:\n",
    "        corpus = corpus.replace(punctuation_mark,'').lower()\n",
    "\n",
    "    # split string into words\n",
    "    listofwords = corpus.split(' ')\n",
    "    wordbag = []\n",
    "    \n",
    "    # remove stopwords and any tokens that are just empty strings\n",
    "    for word in listofwords:\n",
    "        if (not word in eng_sw) and (word!=''):\n",
    "            wordbag.append(word)\n",
    "\n",
    "    return wordbag"
   ]
  },
  {
   "cell_type": "code",
   "execution_count": 36,
   "metadata": {},
   "outputs": [
    {
     "name": "stdout",
     "output_type": "stream",
     "text": [
      "['adaptability', 'flexibility', 'adaptability', 'learn', 'new', 'tools', 'techniques', 'technologies', 'needed', 'support', 'evolving', 'business', 'needs', 'attention', 'detail', 'strong', 'attention', 'detail', 'accuracy', 'data', 'analysis', 'reporting', 'ensure', 'reliability', 'integrity', 'findings', 'strong', 'problemsolving', 'logical', 'thinking', 'analytical', 'skills', 'proficiency', 'computer', 'skills', 'including', 'excel', 'powerpoint', 'mapping', 'software', 'statistical', 'knowledge', 'solid', 'understanding', 'statistical', 'concepts', 'methods', 'data', 'analysis', 'regression', 'analysis', 'hypothesis', 'testing', 'time', 'series', 'analysis', 'communication', 'skills', 'excellent', 'verbal', 'written', 'communication', 'skills', 'ability', 'effectively', 'present', 'findings', 'recommendations', 'technical', 'nontechnical', 'audiences', 'team', 'collaboration', 'ability', 'work', 'collaboratively', 'crossfunctional', 'team', 'environment', 'effectively', 'communicate', 'stakeholders', 'levels', 'organization', 'time', 'management', 'ability', 'manage', 'multiple', 'projects', 'priorities', 'effectively', 'fastpaced', 'environment', 'meeting', 'deadlines']\n"
     ]
    }
   ],
   "source": [
    "# apply tokenizer\n",
    "bagofwords2 = my_tokenizer_2(job_corpus)\n",
    "print(bagofwords2)"
   ]
  },
  {
   "cell_type": "markdown",
   "metadata": {},
   "source": [
    "## Step 2 - Generate Ngrams\n",
    "\n",
    "We care about pairs of words and short phrases that are commonly occurring in the job description.  Create a list of Ngrams from the text for N = 2,3."
   ]
  },
  {
   "cell_type": "code",
   "execution_count": 29,
   "metadata": {},
   "outputs": [],
   "source": [
    "from nltk.util import bigrams"
   ]
  },
  {
   "cell_type": "code",
   "execution_count": 41,
   "metadata": {},
   "outputs": [
    {
     "data": {
      "text/plain": [
       "[('adaptability', 'flexibility'),\n",
       " ('flexibility', 'adaptability'),\n",
       " ('adaptability', 'learn'),\n",
       " ('learn', 'new'),\n",
       " ('new', 'tools'),\n",
       " ('tools', 'techniques'),\n",
       " ('techniques', 'technologies'),\n",
       " ('technologies', 'needed'),\n",
       " ('needed', 'support'),\n",
       " ('support', 'evolving')]"
      ]
     },
     "execution_count": 41,
     "metadata": {},
     "output_type": "execute_result"
    }
   ],
   "source": [
    "# create list of bigrams\n",
    "bagofgrams = list(bigrams(bagofwords2))\n",
    "\n",
    "# check first 10 entries\n",
    "bagofgrams[0:10]\n"
   ]
  },
  {
   "cell_type": "markdown",
   "metadata": {},
   "source": [
    "## Step 3 - Populate Bigram Dictionary"
   ]
  },
  {
   "cell_type": "code",
   "execution_count": 42,
   "metadata": {},
   "outputs": [
    {
     "data": {
      "text/plain": [
       "{('adaptability', 'flexibility'): 1,\n",
       " ('flexibility', 'adaptability'): 1,\n",
       " ('adaptability', 'learn'): 1,\n",
       " ('learn', 'new'): 1,\n",
       " ('new', 'tools'): 1,\n",
       " ('tools', 'techniques'): 1,\n",
       " ('techniques', 'technologies'): 1,\n",
       " ('technologies', 'needed'): 1,\n",
       " ('needed', 'support'): 1,\n",
       " ('support', 'evolving'): 1,\n",
       " ('evolving', 'business'): 1,\n",
       " ('business', 'needs'): 1,\n",
       " ('needs', 'attention'): 1,\n",
       " ('attention', 'detail'): 2,\n",
       " ('detail', 'strong'): 1,\n",
       " ('strong', 'attention'): 1,\n",
       " ('detail', 'accuracy'): 1,\n",
       " ('accuracy', 'data'): 1,\n",
       " ('data', 'analysis'): 2,\n",
       " ('analysis', 'reporting'): 1,\n",
       " ('reporting', 'ensure'): 1,\n",
       " ('ensure', 'reliability'): 1,\n",
       " ('reliability', 'integrity'): 1,\n",
       " ('integrity', 'findings'): 1,\n",
       " ('findings', 'strong'): 1,\n",
       " ('strong', 'problemsolving'): 1,\n",
       " ('problemsolving', 'logical'): 1,\n",
       " ('logical', 'thinking'): 1,\n",
       " ('thinking', 'analytical'): 1,\n",
       " ('analytical', 'skills'): 1,\n",
       " ('skills', 'proficiency'): 1,\n",
       " ('proficiency', 'computer'): 1,\n",
       " ('computer', 'skills'): 1,\n",
       " ('skills', 'including'): 1,\n",
       " ('including', 'excel'): 1,\n",
       " ('excel', 'powerpoint'): 1,\n",
       " ('powerpoint', 'mapping'): 1,\n",
       " ('mapping', 'software'): 1,\n",
       " ('software', 'statistical'): 1,\n",
       " ('statistical', 'knowledge'): 1,\n",
       " ('knowledge', 'solid'): 1,\n",
       " ('solid', 'understanding'): 1,\n",
       " ('understanding', 'statistical'): 1,\n",
       " ('statistical', 'concepts'): 1,\n",
       " ('concepts', 'methods'): 1,\n",
       " ('methods', 'data'): 1,\n",
       " ('analysis', 'regression'): 1,\n",
       " ('regression', 'analysis'): 1,\n",
       " ('analysis', 'hypothesis'): 1,\n",
       " ('hypothesis', 'testing'): 1,\n",
       " ('testing', 'time'): 1,\n",
       " ('time', 'series'): 1,\n",
       " ('series', 'analysis'): 1,\n",
       " ('analysis', 'communication'): 1,\n",
       " ('communication', 'skills'): 2,\n",
       " ('skills', 'excellent'): 1,\n",
       " ('excellent', 'verbal'): 1,\n",
       " ('verbal', 'written'): 1,\n",
       " ('written', 'communication'): 1,\n",
       " ('skills', 'ability'): 1,\n",
       " ('ability', 'effectively'): 1,\n",
       " ('effectively', 'present'): 1,\n",
       " ('present', 'findings'): 1,\n",
       " ('findings', 'recommendations'): 1,\n",
       " ('recommendations', 'technical'): 1,\n",
       " ('technical', 'nontechnical'): 1,\n",
       " ('nontechnical', 'audiences'): 1,\n",
       " ('audiences', 'team'): 1,\n",
       " ('team', 'collaboration'): 1,\n",
       " ('collaboration', 'ability'): 1,\n",
       " ('ability', 'work'): 1,\n",
       " ('work', 'collaboratively'): 1,\n",
       " ('collaboratively', 'crossfunctional'): 1,\n",
       " ('crossfunctional', 'team'): 1,\n",
       " ('team', 'environment'): 1,\n",
       " ('environment', 'effectively'): 1,\n",
       " ('effectively', 'communicate'): 1,\n",
       " ('communicate', 'stakeholders'): 1,\n",
       " ('stakeholders', 'levels'): 1,\n",
       " ('levels', 'organization'): 1,\n",
       " ('organization', 'time'): 1,\n",
       " ('time', 'management'): 1,\n",
       " ('management', 'ability'): 1,\n",
       " ('ability', 'manage'): 1,\n",
       " ('manage', 'multiple'): 1,\n",
       " ('multiple', 'projects'): 1,\n",
       " ('projects', 'priorities'): 1,\n",
       " ('priorities', 'effectively'): 1,\n",
       " ('effectively', 'fastpaced'): 1,\n",
       " ('fastpaced', 'environment'): 1,\n",
       " ('environment', 'meeting'): 1,\n",
       " ('meeting', 'deadlines'): 1}"
      ]
     },
     "execution_count": 42,
     "metadata": {},
     "output_type": "execute_result"
    }
   ],
   "source": [
    "# create dictionary of bigrams from the tokens returned by tokenizer\n",
    "bigram_dict = dict((x, bagofgrams.count(x)) for x in bagofgrams)\n",
    "\n",
    "# check dictionary contents\n",
    "bigram_dict"
   ]
  },
  {
   "cell_type": "markdown",
   "metadata": {},
   "source": [
    "## Step 4 - Visualize Results"
   ]
  },
  {
   "cell_type": "code",
   "execution_count": 49,
   "metadata": {},
   "outputs": [
    {
     "name": "stdout",
     "output_type": "stream",
     "text": [
      "                                 Count\n",
      "attention       detail               2\n",
      "data            analysis             2\n",
      "communication   skills               2\n",
      "adaptability    flexibility          1\n",
      "audiences       team                 1\n",
      "nontechnical    audiences            1\n",
      "technical       nontechnical         1\n",
      "recommendations technical            1\n",
      "findings        recommendations      1\n",
      "present         findings             1\n",
      "effectively     present              1\n",
      "ability         effectively          1\n",
      "skills          ability              1\n",
      "collaboration   ability              1\n",
      "written         communication        1\n",
      "verbal          written              1\n",
      "excellent       verbal               1\n",
      "skills          excellent            1\n",
      "analysis        communication        1\n",
      "series          analysis             1\n"
     ]
    }
   ],
   "source": [
    "gram_df = pd.DataFrame(bigram_dict.values(), columns=[\"Count\"], index=bigram_dict.keys())\n",
    "gram_df = gram_df.sort_values(by=\"Count\", ascending=False)\n",
    "top_grams = gram_df.head(20)\n",
    "print(top_grams)"
   ]
  },
  {
   "cell_type": "code",
   "execution_count": null,
   "metadata": {},
   "outputs": [],
   "source": []
  }
 ],
 "metadata": {
  "kernelspec": {
   "display_name": "jop_app",
   "language": "python",
   "name": "python3"
  },
  "language_info": {
   "codemirror_mode": {
    "name": "ipython",
    "version": 3
   },
   "file_extension": ".py",
   "mimetype": "text/x-python",
   "name": "python",
   "nbconvert_exporter": "python",
   "pygments_lexer": "ipython3",
   "version": "3.7.16"
  }
 },
 "nbformat": 4,
 "nbformat_minor": 2
}
